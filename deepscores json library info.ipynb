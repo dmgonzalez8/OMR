{
 "cells": [
  {
   "cell_type": "markdown",
   "id": "1d37e587-a324-4ded-8b16-90582c4b8559",
   "metadata": {},
   "source": [
    "#3# The deepscores dataset https://zenodo.org/records/4012193 contains thousands of pages of music in image (page scan) format, and a (huge) json file of bounding box annontations for these images."
   ]
  },
  {
   "cell_type": "code",
   "execution_count": 1,
   "id": "706816cc-c394-4187-bb03-15ac3e34a025",
   "metadata": {},
   "outputs": [
    {
     "ename": "FileNotFoundError",
     "evalue": "[Errno 2] No such file or directory: './ds2_dense/deepscores_train.json'",
     "output_type": "error",
     "traceback": [
      "\u001b[0;31m---------------------------------------------------------------------------\u001b[0m",
      "\u001b[0;31mFileNotFoundError\u001b[0m                         Traceback (most recent call last)",
      "Cell \u001b[0;32mIn[1], line 9\u001b[0m\n\u001b[1;32m      6\u001b[0m \u001b[38;5;28;01mimport\u001b[39;00m \u001b[38;5;21;01mmath\u001b[39;00m\n\u001b[1;32m      8\u001b[0m \u001b[38;5;66;03m# Load JSON data into a dictionary\u001b[39;00m\n\u001b[0;32m----> 9\u001b[0m \u001b[38;5;28;01mwith\u001b[39;00m \u001b[38;5;28mopen\u001b[39m(\u001b[38;5;124m'\u001b[39m\u001b[38;5;124m./ds2_dense/deepscores_train.json\u001b[39m\u001b[38;5;124m'\u001b[39m) \u001b[38;5;28;01mas\u001b[39;00m file:\n\u001b[1;32m     10\u001b[0m     data \u001b[38;5;241m=\u001b[39m json\u001b[38;5;241m.\u001b[39mload(file)\n\u001b[1;32m     12\u001b[0m \u001b[38;5;66;03m# You can now inspect the data structure\u001b[39;00m\n",
      "File \u001b[0;32m/opt/homebrew/anaconda3/lib/python3.11/site-packages/IPython/core/interactiveshell.py:310\u001b[0m, in \u001b[0;36m_modified_open\u001b[0;34m(file, *args, **kwargs)\u001b[0m\n\u001b[1;32m    303\u001b[0m \u001b[38;5;28;01mif\u001b[39;00m file \u001b[38;5;129;01min\u001b[39;00m {\u001b[38;5;241m0\u001b[39m, \u001b[38;5;241m1\u001b[39m, \u001b[38;5;241m2\u001b[39m}:\n\u001b[1;32m    304\u001b[0m     \u001b[38;5;28;01mraise\u001b[39;00m \u001b[38;5;167;01mValueError\u001b[39;00m(\n\u001b[1;32m    305\u001b[0m         \u001b[38;5;124mf\u001b[39m\u001b[38;5;124m\"\u001b[39m\u001b[38;5;124mIPython won\u001b[39m\u001b[38;5;124m'\u001b[39m\u001b[38;5;124mt let you open fd=\u001b[39m\u001b[38;5;132;01m{\u001b[39;00mfile\u001b[38;5;132;01m}\u001b[39;00m\u001b[38;5;124m by default \u001b[39m\u001b[38;5;124m\"\u001b[39m\n\u001b[1;32m    306\u001b[0m         \u001b[38;5;124m\"\u001b[39m\u001b[38;5;124mas it is likely to crash IPython. If you know what you are doing, \u001b[39m\u001b[38;5;124m\"\u001b[39m\n\u001b[1;32m    307\u001b[0m         \u001b[38;5;124m\"\u001b[39m\u001b[38;5;124myou can use builtins\u001b[39m\u001b[38;5;124m'\u001b[39m\u001b[38;5;124m open.\u001b[39m\u001b[38;5;124m\"\u001b[39m\n\u001b[1;32m    308\u001b[0m     )\n\u001b[0;32m--> 310\u001b[0m \u001b[38;5;28;01mreturn\u001b[39;00m io_open(file, \u001b[38;5;241m*\u001b[39margs, \u001b[38;5;241m*\u001b[39m\u001b[38;5;241m*\u001b[39mkwargs)\n",
      "\u001b[0;31mFileNotFoundError\u001b[0m: [Errno 2] No such file or directory: './ds2_dense/deepscores_train.json'"
     ]
    }
   ],
   "source": [
    "import json\n",
    "import pandas as pd\n",
    "import matplotlib.pyplot as plt\n",
    "import matplotlib.patches as patches\n",
    "from PIL import Image\n",
    "import math\n",
    "\n",
    "# Load JSON data into a dictionary\n",
    "with open('./ds2_dense/deepscores_train.json') as file:\n",
    "    data = json.load(file)\n",
    "\n",
    "# You can now inspect the data structure\n",
    "print(data.keys())  # Print keys to understand the structure"
   ]
  },
  {
   "cell_type": "markdown",
   "id": "28fadccb-9b82-43e5-9c55-aa5cef213ad4",
   "metadata": {},
   "source": [
    "### the first two keys are mostly useless- note that there are two annotation sets though, deepscores and muscima++. Deepscores is printed music and Muscima is handwritten music- We can use both in this combined set as the handwritten scores have more entropy which will hopefully improve any model "
   ]
  },
  {
   "cell_type": "code",
   "execution_count": null,
   "id": "dc8350e4-df05-42ef-8e20-a4ee310177ad",
   "metadata": {},
   "outputs": [],
   "source": [
    "# Example to access a nested part if 'data' contains a key that opens to a nested dictionary\n",
    "nested_part = data['info']\n",
    "print(nested_part)\n",
    "# Example to access a nested part if 'data' contains a key that opens to a nested dictionary\n",
    "nested_part = data['annotation_sets']\n",
    "print(nested_part)"
   ]
  },
  {
   "cell_type": "markdown",
   "id": "ab08a88f-db5a-4037-b717-56b8c2d43cb3",
   "metadata": {},
   "source": [
    "### Categories contains the labels - note that the labels have different id/spelling between the datasets, however, equivalent labels have been assigned the same \"color\" (don't ask me why they did it this way- maybe just rename the color column \"id\")"
   ]
  },
  {
   "cell_type": "code",
   "execution_count": null,
   "id": "20ba8bf0-79fb-441b-ba34-ed8b8d1a5f92",
   "metadata": {},
   "outputs": [],
   "source": [
    "# Example to access a nested part if 'data' contains a key that opens to a nested dictionary\n",
    "nested_part = data['categories']\n",
    "# print(nested_part)\n",
    "# Assuming 'data' is your loaded JSON dictionary\n",
    "categories_data = data['categories']\n",
    "# Convert the 'categories' dictionary to a DataFrame\n",
    "categories_df = pd.DataFrame(categories_data)\n",
    "categories_df = categories_df.T\n",
    "# Display the DataFrame to check it\n",
    "categories_df.head(10)"
   ]
  },
  {
   "cell_type": "markdown",
   "id": "6ab5ef69-e2ac-454c-a39e-c0715ee3a824",
   "metadata": {},
   "source": [
    "### the images table has the filenames as the primary key and then a list of all annotation_ids for that image. you will have to do a join from the following table to get the actual bounding box coordinates for an image"
   ]
  },
  {
   "cell_type": "code",
   "execution_count": null,
   "id": "6f74ec13-c713-466c-8164-2bd2a0df419d",
   "metadata": {},
   "outputs": [],
   "source": [
    "# # Example to access a nested part if 'data' contains a key that opens to a nested dictionary\n",
    "# nested_part = data['images']\n",
    "# print(nested_part)\n",
    "# Assuming 'data' is your loaded JSON dictionary\n",
    "images_data = data['images']\n",
    "\n",
    "# Convert the 'categories' dictionary to a DataFrame\n",
    "images_df = pd.DataFrame(images_data)\n",
    "\n",
    "# Display the DataFrame to check it\n",
    "images_df.head(5)"
   ]
  },
  {
   "cell_type": "markdown",
   "id": "de19c545-be1a-4a57-95c4-b57064f3846f",
   "metadata": {},
   "source": [
    "### The annotations table contains the bounding boxes (a_bbox is parallel to the image dimensions, o_bbox is the bounding box with rotation), cat_id object label (notice that they gave you the id's for deepscores and muscima- probably should remap this to a new single id), area (in pixels), and image_id (foreign key). The coordinates are in pixels."
   ]
  },
  {
   "cell_type": "code",
   "execution_count": null,
   "id": "ed0dd5bb-feba-401f-8336-6b1a28b45760",
   "metadata": {},
   "outputs": [],
   "source": [
    "# # Example to access a nested part if 'data' contains a key that opens to a nested dictionary\n",
    "# nested_part = data['annotations']\n",
    "# print(nested_part)\n",
    "# Assuming 'data' is your loaded JSON dictionary\n",
    "anns_data = data['annotations']\n",
    "# Convert the 'categories' dictionary to a DataFrame\n",
    "anns_df = pd.DataFrame(anns_data)\n",
    "anns_df = anns_df.T\n",
    "# Display the DataFrame to check it\n",
    "anns_df.head(5)"
   ]
  },
  {
   "cell_type": "markdown",
   "id": "3b61ac5b-5c2c-4914-b088-58079c25c80a",
   "metadata": {},
   "source": [
    "### let's find a rotated bounding box to look at"
   ]
  },
  {
   "cell_type": "code",
   "execution_count": null,
   "id": "803b0304-d071-44d4-8e38-cac6257a7e17",
   "metadata": {},
   "outputs": [],
   "source": [
    "# Assuming 'anns_df' is your DataFrame and 'o_bbox' contains the bounding boxes\n",
    "# We need to find a bounding box with all unique coordinates.\n",
    "\n",
    "# Function to check if all coordinates in the box are unique\n",
    "def has_all_unique_coordinates(box):\n",
    "    return len(set(box)) == len(box)\n",
    "\n",
    "# Apply the function to each item in the 'o_bbox' column and filter\n",
    "unique_boxes = anns_df[anns_df['o_bbox'].apply(has_all_unique_coordinates)]\n",
    "\n",
    "# Check if we found any and print the first one if available\n",
    "if not unique_boxes.empty:\n",
    "    print(\"Found a rotated bounding box:\", unique_boxes['o_bbox'].iloc[0])\n",
    "else:\n",
    "    print(\"No rotated bounding boxes found.\")"
   ]
  },
  {
   "cell_type": "code",
   "execution_count": null,
   "id": "9652ced6-c67c-4c23-9c1d-a1cd314be347",
   "metadata": {
    "scrolled": true
   },
   "outputs": [],
   "source": [
    "anns_df.iloc[1092]"
   ]
  },
  {
   "cell_type": "markdown",
   "id": "98e1b6ba-d8c4-4cbd-9fe5-bc601a4ff964",
   "metadata": {},
   "source": [
    "### get the coordinates of the corners"
   ]
  },
  {
   "cell_type": "code",
   "execution_count": null,
   "id": "167c6404-2f93-4ced-8aff-9ad976ab3ffd",
   "metadata": {},
   "outputs": [],
   "source": [
    "obb = anns_df['o_bbox'].iloc[1092]\n",
    "obb"
   ]
  },
  {
   "cell_type": "markdown",
   "id": "5c33b7cc-69c1-4216-a83c-ce0828f15824",
   "metadata": {},
   "source": [
    "### plot the bounding box - the blue line is the diagonal of the parallel bounding box"
   ]
  },
  {
   "cell_type": "code",
   "execution_count": null,
   "id": "1b936787-8236-4931-8356-7d307f62e549",
   "metadata": {},
   "outputs": [],
   "source": [
    "# Define the coordinates\n",
    "points = [(1455, 168), (1445, 158), (1429, 174) , (1439, 184)]\n",
    "points1 = [(1432, 163), (1453, 179)]\n",
    "\n",
    "fig, ax = plt.subplots()\n",
    "# Create a Polygon patch\n",
    "polygon = patches.Polygon(points, closed=True, edgecolor='r', facecolor='none')\n",
    "polygon1 = patches.Polygon(points1, closed=True, edgecolor='b', facecolor='none')\n",
    "ax.add_patch(polygon)\n",
    "ax.add_patch(polygon1)\n",
    "\n",
    "# Set plot limits for better visibility\n",
    "ax.set_xlim(1400, 1480)\n",
    "ax.set_ylim(140, 200)\n",
    "\n",
    "# Add grid and labels for better visualization\n",
    "ax.grid(True)\n",
    "ax.set_xlabel('X coordinate')\n",
    "ax.set_ylabel('Y coordinate')\n",
    "ax.set_title('Oriented Bounding Box')\n",
    "\n",
    "fig.set_size_inches(3, 2.1)\n",
    "plt.show()"
   ]
  },
  {
   "cell_type": "markdown",
   "id": "61e9b4d0-80f6-4300-9d88-3723f50691a0",
   "metadata": {},
   "source": [
    "### let's figure out what object this is"
   ]
  },
  {
   "cell_type": "code",
   "execution_count": null,
   "id": "c2abaaf1-e501-4b20-9e3d-38ea371abf5a",
   "metadata": {},
   "outputs": [],
   "source": [
    "anns_df.iloc[1092]"
   ]
  },
  {
   "cell_type": "code",
   "execution_count": null,
   "id": "5a5133aa-cd09-4119-a2a6-450fa29392f9",
   "metadata": {},
   "outputs": [],
   "source": [
    "categories_df[47:48]"
   ]
  },
  {
   "cell_type": "markdown",
   "id": "7ab8a85c-2c02-428f-a2dc-344e82aba4ad",
   "metadata": {},
   "source": [
    "### it's a note- let's figure out what image it's in so we can visualize it"
   ]
  },
  {
   "cell_type": "code",
   "execution_count": null,
   "id": "c76729e4-c98f-4529-a970-816c3b67b0fa",
   "metadata": {},
   "outputs": [],
   "source": [
    "images_df[images_df['id']==1072]"
   ]
  },
  {
   "cell_type": "code",
   "execution_count": null,
   "id": "a49dc0a2-e18c-47e5-b02b-a475edaf792a",
   "metadata": {},
   "outputs": [],
   "source": [
    "image_path = images_df.loc[862]['filename']\n",
    "image_path"
   ]
  },
  {
   "cell_type": "markdown",
   "id": "43f0e013-8246-4824-9993-7fb0bb3671e0",
   "metadata": {},
   "source": [
    "### now let's draw the box on the image"
   ]
  },
  {
   "cell_type": "code",
   "execution_count": null,
   "id": "f46bbbd2-e24c-41be-ba36-4a86d8593626",
   "metadata": {},
   "outputs": [],
   "source": [
    "def draw_obb_on_image(image_path, obb, zoom=False):\n",
    "    # Load the image\n",
    "    img = Image.open(image_path)\n",
    "    \n",
    "    # Create a matplotlib figure and axis\n",
    "    fig, ax = plt.subplots()\n",
    "    ax.imshow(img)\n",
    "    # Set plot limits for better visibility\n",
    "    if zoom:    \n",
    "        ax.set_xlim(1000, 1750)\n",
    "        ax.set_ylim(400, 0)\n",
    "    # Create a polygon patch from the OBB coordinates\n",
    "    polygon = patches.Polygon([(obb[i], obb[i+1]) for i in range(0, len(obb), 2)], \n",
    "                              closed=True, edgecolor='red', fill=False)\n",
    "    ax.add_patch(polygon)\n",
    "    \n",
    "    # Show the plot\n",
    "    plt.show()"
   ]
  },
  {
   "cell_type": "code",
   "execution_count": null,
   "id": "74ea91bb-d87d-4701-a7dc-8e61e34be4dc",
   "metadata": {},
   "outputs": [],
   "source": [
    "draw_obb_on_image('./ds2_dense/images/'+image_path, obb)"
   ]
  },
  {
   "cell_type": "markdown",
   "id": "104f077a-edc6-45fd-b22b-4b7e3217a676",
   "metadata": {},
   "source": [
    "### zoomed in- looks pretty good!"
   ]
  },
  {
   "cell_type": "code",
   "execution_count": null,
   "id": "b0f80dad-a0c2-4ba7-bf35-1a5a813010c5",
   "metadata": {
    "scrolled": true
   },
   "outputs": [],
   "source": [
    "draw_obb_on_image('./ds2_dense/images/'+image_path, obb, True)"
   ]
  },
  {
   "cell_type": "markdown",
   "id": "972042bb-9cd1-4b6b-a6a0-8330b1115114",
   "metadata": {},
   "source": [
    "### possible code to convert 4-corner coordinates to (center_x,center_y,W,H,R) normalized"
   ]
  },
  {
   "cell_type": "code",
   "execution_count": null,
   "id": "da046a7d-a6a2-4d4f-b80e-8445e10162bd",
   "metadata": {},
   "outputs": [],
   "source": [
    "import numpy as np\n",
    "from shapely.geometry import Polygon\n",
    "\n",
    "def obb_to_yolo(obb, img_width, img_height):\n",
    "    # Assuming 'obb' is a list of eight coordinates: [x1, y1, x2, y2, x3, y3, x4, y4]\n",
    "    polygon = Polygon([(obb[i], obb[i + 1]) for i in range(0, len(obb), 2)])\n",
    "    min_rect = polygon.minimum_rotated_rectangle\n",
    "    \n",
    "    # Extract the corners of the minimum rotated rectangle\n",
    "    corners = np.array(min_rect.exterior.coords)\n",
    "    \n",
    "    # Calculate width, height and center of the rectangle\n",
    "    edge1 = np.linalg.norm(corners[0] - corners[1])\n",
    "    edge2 = np.linalg.norm(corners[1] - corners[2])\n",
    "    width = max(edge1, edge2)\n",
    "    height = min(edge1, edge2)\n",
    "    \n",
    "    center = min_rect.centroid.coords[0]\n",
    "    center_x = center[0]\n",
    "    center_y = center[1]\n",
    "    \n",
    "    # Calculate rotation angle\n",
    "    angle = np.rad2deg(np.arctan2(corners[1][1] - corners[0][1], corners[1][0] - corners[0][0]))\n",
    "    \n",
    "    # Normalize width, height, and center coordinates\n",
    "    center_x /= img_width\n",
    "    center_y /= img_height\n",
    "    width /= img_width\n",
    "    height /= img_height\n",
    "    \n",
    "    return [center_x, center_y, width, height, angle]\n",
    "\n",
    "# Example usage:\n",
    "obb = anns_df['o_bbox'].iloc[1092]\n",
    "img_width = images_df.loc[862]['width']\n",
    "img_height = images_df.loc[862]['height']\n",
    "\n",
    "yolo_bbox = obb_to_yolo(obb, img_width, img_height)\n",
    "yolo_bbox"
   ]
  },
  {
   "cell_type": "code",
   "execution_count": null,
   "id": "01e65c09-817f-4db8-abf1-759a6a6ec77a",
   "metadata": {},
   "outputs": [],
   "source": [
    "def centroid_from_corners(coords):\n",
    "    # coords should be a list of eight elements: [x1, y1, x2, y2, x3, y3, x4, y4]\n",
    "    xs = coords[0::2]  # Extracts every second element starting from 0\n",
    "    ys = coords[1::2]  # Extracts every second element starting from 1\n",
    "    centroid_x = sum(xs) / len(xs)\n",
    "    centroid_y = sum(ys) / len(ys)\n",
    "    return (centroid_x, centroid_y)"
   ]
  },
  {
   "cell_type": "code",
   "execution_count": null,
   "id": "d9dc147c-5369-43a6-9fec-640c1ecfedcb",
   "metadata": {},
   "outputs": [],
   "source": [
    "centroid_from_corners(obb)"
   ]
  },
  {
   "cell_type": "code",
   "execution_count": null,
   "id": "fc126886-d168-438a-9c16-69aad3f66331",
   "metadata": {},
   "outputs": [],
   "source": [
    "(yolo_bbox[0]*1921, yolo_bbox[1]*2717)"
   ]
  },
  {
   "cell_type": "markdown",
   "id": "dd99f73a-2925-4dab-b078-91750510895f",
   "metadata": {},
   "source": [
    "### matplotlib hates yolo coordinates, so we will need to convert them back any time we want to plot"
   ]
  },
  {
   "cell_type": "code",
   "execution_count": null,
   "id": "93794011-c693-456f-9c86-2ba86eb25009",
   "metadata": {},
   "outputs": [],
   "source": [
    "def yolo_to_corners(center_x, center_y, width, height, rotation, img_width, img_height):\n",
    "    center_x *= img_width\n",
    "    center_y *= img_height\n",
    "    width *= img_width\n",
    "    height *= img_height\n",
    "    rotation = np.deg2rad(rotation)\n",
    "    \n",
    "    corners = np.array([\n",
    "        [-width / 2, -height / 2],\n",
    "        [width / 2, -height / 2],\n",
    "        [width / 2, height / 2],\n",
    "        [-width / 2, height / 2]\n",
    "    ])\n",
    "    \n",
    "    R = np.array([\n",
    "        [np.cos(rotation), -np.sin(rotation)],\n",
    "        [np.sin(rotation), np.cos(rotation)]\n",
    "    ])\n",
    "    \n",
    "    rot_corners = np.dot(corners, R)\n",
    "    rot_corners[:, 0] += center_x\n",
    "    rot_corners[:, 1] += center_y\n",
    "    \n",
    "    return rot_corners.flatten()"
   ]
  },
  {
   "cell_type": "markdown",
   "id": "3cc21971-d4d0-431a-8bc8-2f97a17a6960",
   "metadata": {},
   "source": [
    "### plot the yolo box"
   ]
  },
  {
   "cell_type": "code",
   "execution_count": null,
   "id": "a0e4e5f3-d47f-41a2-a9ab-beec9622474c",
   "metadata": {},
   "outputs": [],
   "source": [
    "def draw_rotated_yolo_bbox(image_path, bbox, img_width, img_height, zoom=False):\n",
    "    img = Image.open(image_path)\n",
    "    fig, ax = plt.subplots()\n",
    "    ax.imshow(img)\n",
    "\n",
    "    corners = yolo_to_corners(bbox[0], bbox[1], bbox[2], bbox[3], bbox[4], img_width, img_height)\n",
    "    polygon = patches.Polygon(np.array(corners).reshape(4, 2), closed=True, edgecolor='r', facecolor='none')\n",
    "    ax.add_patch(polygon)\n",
    "\n",
    "    if zoom:\n",
    "        buffer = 100\n",
    "        ax.set_xlim(min(corners[0::2]) - buffer, max(corners[0::2]) + buffer)\n",
    "        ax.set_ylim(max(corners[1::2]) + buffer, min(corners[1::2]) - buffer)\n",
    "    else:\n",
    "        ax.set_xlim(0, img_width)\n",
    "        ax.set_ylim(img_height, 0)\n",
    "    \n",
    "    plt.show()"
   ]
  },
  {
   "cell_type": "code",
   "execution_count": null,
   "id": "f935e9ed-ab30-4ff5-9d79-a850afdf6de6",
   "metadata": {},
   "outputs": [],
   "source": [
    "draw_rotated_yolo_bbox('./ds2_dense/images/'+image_path, yolo_bbox, img_width, img_height, True)"
   ]
  },
  {
   "cell_type": "code",
   "execution_count": null,
   "id": "e68b4dad-4dec-4d35-9e2b-7d1aa60dc168",
   "metadata": {},
   "outputs": [],
   "source": []
  }
 ],
 "metadata": {
  "kernelspec": {
   "display_name": "Python 3 (ipykernel)",
   "language": "python",
   "name": "python3"
  },
  "language_info": {
   "codemirror_mode": {
    "name": "ipython",
    "version": 3
   },
   "file_extension": ".py",
   "mimetype": "text/x-python",
   "name": "python",
   "nbconvert_exporter": "python",
   "pygments_lexer": "ipython3",
   "version": "3.11.7"
  }
 },
 "nbformat": 4,
 "nbformat_minor": 5
}
