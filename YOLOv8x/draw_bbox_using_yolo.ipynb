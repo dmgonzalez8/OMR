{
 "cells": [
  {
   "cell_type": "code",
   "execution_count": 1,
   "metadata": {},
   "outputs": [
    {
     "name": "stdout",
     "output_type": "stream",
     "text": [
      "\n"
     ]
    },
    {
     "ename": "",
     "evalue": "",
     "output_type": "error",
     "traceback": [
      "\u001b[1;31mThe Kernel crashed while executing code in the current cell or a previous cell. \n",
      "\u001b[1;31mPlease review the code in the cell(s) to identify a possible cause of the failure. \n",
      "\u001b[1;31mClick <a href='https://aka.ms/vscodeJupyterKernelCrash'>here</a> for more info. \n",
      "\u001b[1;31mView Jupyter <a href='command:jupyter.viewOutput'>log</a> for further details."
     ]
    }
   ],
   "source": [
    "from PIL import Image\n",
    "import os\n",
    "import cv2\n",
    "import numpy as np\n",
    "from ultralytics import YOLO\n",
    "from PIL import Image, ImageDraw, ImageFont, ImageFilter\n",
    "\n",
    "\n",
    "# Load the YOLO model\n",
    "model_path = '/Users/erenbardak/DeepLearning/OMR/MODELS/704_992_5batch_symbols_500_epochs_version2_8.81hour_v8x/best.pt'\n",
    "model = YOLO(model_path)\n",
    "\n",
    "# Directory containing images\n",
    "source_dir = '/Users/erenbardak/DeepLearning/OMR/ds2_dense/images/test'\n",
    "image_files = [os.path.join(source_dir, f) for f in os.listdir(source_dir) if f.endswith(('.jpg', '.jpeg', '.png'))]\n",
    "\n",
    "# Run inference on all images\n",
    "results = model(image_files)\n",
    "\n",
    "# Directory to save annotated images\n",
    "save_directory = './'\n",
    "os.makedirs(save_directory, exist_ok=True)\n",
    "\n",
    "def get_contrast_color(bg_color):\n",
    "    # Calculate the luminance of the background color\n",
    "    # using the formula for luminance under the sRGB Luma (Rec. 709)\n",
    "    luminance = (0.299 * bg_color[0] + 0.587 * bg_color[1] + 0.114 * bg_color[2]) / 255\n",
    "    # Return white if the background is dark; black if the background is light\n",
    "    return (255, 255, 255) if luminance < 0.5 else (0, 0, 0)\n",
    "\n",
    "\n",
    "# Function to generate unique colors for each class ID\n",
    "def get_unique_color(tag):\n",
    "    np.random.seed(tag)  # Seed with tag to get consistent color for the same tag\n",
    "    return [int(x) for x in np.random.randint(0, 255, 3)]\n",
    "\n",
    "for result in results:\n",
    "    img_path = result.path\n",
    "    image = Image.open(result.path).convert(\"RGB\")\n",
    "    # Draw predictions on the image\n",
    "    draw = ImageDraw.Draw(image)\n",
    "\n",
    "    if image is None:\n",
    "        print(f\"Failed to load image {img_path}\")\n",
    "        continue\n",
    "\n",
    "    boxes = result.boxes.data\n",
    "    confs = result.boxes.conf\n",
    "    cls_ids = result.boxes.cls\n",
    "\n",
    "    for box, conf, cls_id in zip(boxes, confs, cls_ids):\n",
    "        x1, y1, x2, y2 = int(box[0]), int(box[1]), int(box[2]), int(box[3])\n",
    "        conf = float(conf)\n",
    "        cls_id = int(cls_id)\n",
    "        label = result.names[cls_id]\n",
    "        label_text = f'{label} {conf:.2f}'\n",
    "        font_scale = 2\n",
    "        color = get_unique_color(cls_id)\n",
    "        text_color = get_contrast_color(color)\n",
    "\n",
    "        # Draw bounding box\n",
    "        draw.rectangle([( x1, y1), (x2, y2)], outline='red', width=3)\n",
    "\n",
    "        font_size = 20  # Change this to the desired font size\n",
    "        font = ImageFont.truetype(\"arial.ttf\", 48)  # On many systems, this might work without a full path.\n",
    "        \n",
    "        # Draw label text in color matching the bounding box\n",
    "        draw.text((x1, y1 - 40), label_text, fill='blue')\n",
    "\n",
    "    save_path = os.path.join(save_directory, os.path.basename(img_path))\n",
    "    image.save(save_path)\n"
   ]
  },
  {
   "cell_type": "code",
   "execution_count": null,
   "metadata": {},
   "outputs": [],
   "source": []
  }
 ],
 "metadata": {
  "kernelspec": {
   "display_name": "base",
   "language": "python",
   "name": "python3"
  },
  "language_info": {
   "codemirror_mode": {
    "name": "ipython",
    "version": 3
   },
   "file_extension": ".py",
   "mimetype": "text/x-python",
   "name": "python",
   "nbconvert_exporter": "python",
   "pygments_lexer": "ipython3",
   "version": "3.11.0"
  }
 },
 "nbformat": 4,
 "nbformat_minor": 2
}
